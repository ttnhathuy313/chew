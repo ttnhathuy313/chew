{
 "cells": [
  {
   "cell_type": "markdown",
   "metadata": {},
   "source": [
    "## Problem formulation\n"
   ]
  },
  {
   "cell_type": "markdown",
   "metadata": {},
   "source": [
    "Given time series data for a small period of time (say, 2 seconds), determine whether chewing movement exists."
   ]
  },
  {
   "cell_type": "code",
   "execution_count": 1,
   "metadata": {},
   "outputs": [
    {
     "data": {
      "text/plain": [
       "(1582, 17)"
      ]
     },
     "execution_count": 1,
     "metadata": {},
     "output_type": "execute_result"
    }
   ],
   "source": [
    "import pandas as pd \n",
    "\n",
    "test_csv = pd.read_csv('./data/Test_1ANoeatHeadStill.csv')\n",
    "test_csv.shape"
   ]
  },
  {
   "cell_type": "markdown",
   "metadata": {},
   "source": [
    "Our data has 17 columns. So formally, each data point is a vector $x \\in R^{n}$. Here for this case $n = 17$. "
   ]
  },
  {
   "cell_type": "markdown",
   "metadata": {},
   "source": [
    "To utilize the data, we can use some weakly-supervised approach. Assumption: any 3 seconds in \"Eat\" data will definitely have chewing movement, any 3 seconds in \"NoEat\" data will have no chewing movement at all. So we can cut our data into lots of 3-second period to train the model. This is merely just a small trick to get more data. No data no learning no training no accuracy."
   ]
  },
  {
   "cell_type": "markdown",
   "metadata": {},
   "source": [
    "A 3-second period translates to 80 consecutive data samples in the original data. Let $m = 80$ for the sake of generality. Our task is to calculate $P(A)$ where $A \\in R^{m \\times n}$, meaning the probability of a 3-second period ($A$) to have chewing movement."
   ]
  },
  {
   "cell_type": "markdown",
   "metadata": {},
   "source": [
    "## Data preparation"
   ]
  },
  {
   "cell_type": "markdown",
   "metadata": {},
   "source": [
    "I'm using Tensorflow here. Basically this part convert the original data to the data format that we want, do sort of normalization and stuffs."
   ]
  },
  {
   "cell_type": "code",
   "execution_count": 2,
   "metadata": {},
   "outputs": [],
   "source": [
    "paths = {\n",
    "    \"positive\": [\n",
    "        \"./data/Test_1BEatHeadStill.csv\",\n",
    "        \"./data/Test_1CChewGuava.csv\",\n",
    "        \"./data/Test_2AEatMoving.csv\",\n",
    "        \"./data/Test_2CEatNhan.csv\",\n",
    "    ],\n",
    "    \"negative\": [\n",
    "        \"./data/Test_1ANoeatHeadStill.csv\",\n",
    "        \"./data/Test_2ANoeatMoving.csv\",\n",
    "    ]\n",
    "}\n"
   ]
  },
  {
   "cell_type": "code",
   "execution_count": 3,
   "metadata": {},
   "outputs": [
    {
     "name": "stdout",
     "output_type": "stream",
     "text": [
      "\u001b[32m2023-10-21 12:31:32.885\u001b[0m | \u001b[1mINFO    \u001b[0m | \u001b[36mdataset\u001b[0m:\u001b[36m__init__\u001b[0m:\u001b[36m12\u001b[0m - \u001b[1mBuilding dataset with window_size=80, batch_size=32, shuffle=True, buffer_size=1000\u001b[0m\n",
      "\u001b[32m2023-10-21 12:31:33.108\u001b[0m | \u001b[1mINFO    \u001b[0m | \u001b[36mdataset\u001b[0m:\u001b[36m__init__\u001b[0m:\u001b[36m20\u001b[0m - \u001b[1mBuilt dataset: <_PrefetchDataset element_spec=(TensorSpec(shape=(None, 80, 17), dtype=tf.float64, name=None), TensorSpec(shape=(None,), dtype=tf.float64, name=None))>\u001b[0m\n"
     ]
    },
    {
     "data": {
      "text/plain": [
       "<_PrefetchDataset element_spec=(TensorSpec(shape=(None, 80, 17), dtype=tf.float64, name=None), TensorSpec(shape=(None,), dtype=tf.float64, name=None))>"
      ]
     },
     "execution_count": 3,
     "metadata": {},
     "output_type": "execute_result"
    }
   ],
   "source": [
    "from dataset import Dataset\n",
    "dataset = Dataset(paths, window_size=80, batch_size=32, shuffle=True).dataset\n",
    "dataset"
   ]
  },
  {
   "cell_type": "markdown",
   "metadata": {},
   "source": [
    "## Model"
   ]
  },
  {
   "cell_type": "code",
   "execution_count": 4,
   "metadata": {},
   "outputs": [
    {
     "name": "stdout",
     "output_type": "stream",
     "text": [
      "Model: \"sequential\"\n",
      "_________________________________________________________________\n",
      " Layer (type)                Output Shape              Param #   \n",
      "=================================================================\n",
      " conv1d (Conv1D)             (None, 71, 100)           17100     \n",
      "                                                                 \n",
      " conv1d_1 (Conv1D)           (None, 62, 100)           100100    \n",
      "                                                                 \n",
      " max_pooling1d (MaxPooling1  (None, 20, 100)           0         \n",
      " D)                                                              \n",
      "                                                                 \n",
      " conv1d_2 (Conv1D)           (None, 11, 160)           160160    \n",
      "                                                                 \n",
      " conv1d_3 (Conv1D)           (None, 2, 160)            256160    \n",
      "                                                                 \n",
      " global_average_pooling1d (  (None, 160)               0         \n",
      " GlobalAveragePooling1D)                                         \n",
      "                                                                 \n",
      " dropout (Dropout)           (None, 160)               0         \n",
      "                                                                 \n",
      " dense (Dense)               (None, 1)                 161       \n",
      "                                                                 \n",
      "=================================================================\n",
      "Total params: 533681 (2.04 MB)\n",
      "Trainable params: 533681 (2.04 MB)\n",
      "Non-trainable params: 0 (0.00 Byte)\n",
      "_________________________________________________________________\n",
      "\u001b[32m2023-10-21 12:31:33.393\u001b[0m | \u001b[1mINFO    \u001b[0m | \u001b[36mmodel\u001b[0m:\u001b[36mcreate_model\u001b[0m:\u001b[36m24\u001b[0m - \u001b[1mModel: None\u001b[0m\n",
      "\u001b[32m2023-10-21 12:31:33.393\u001b[0m | \u001b[1mINFO    \u001b[0m | \u001b[36mmodel\u001b[0m:\u001b[36mcreate_model\u001b[0m:\u001b[36m24\u001b[0m - \u001b[1mModel: None\u001b[0m\n",
      "\u001b[32m2023-10-21 12:31:33.458\u001b[0m | \u001b[1mINFO    \u001b[0m | \u001b[36mmodel\u001b[0m:\u001b[36mcreate_model\u001b[0m:\u001b[36m26\u001b[0m - \u001b[1mSaved model to ./conv1d-model.keras\u001b[0m\n",
      "\u001b[32m2023-10-21 12:31:33.458\u001b[0m | \u001b[1mINFO    \u001b[0m | \u001b[36mmodel\u001b[0m:\u001b[36mcreate_model\u001b[0m:\u001b[36m26\u001b[0m - \u001b[1mSaved model to ./conv1d-model.keras\u001b[0m\n"
     ]
    }
   ],
   "source": [
    "from model import create_model\n",
    "model = create_model(dataset_shape=dataset.element_spec[0].shape, verbose=5)\n",
    "# TODO: wth did it run so many times?"
   ]
  },
  {
   "cell_type": "markdown",
   "metadata": {},
   "source": [
    "## Training"
   ]
  },
  {
   "cell_type": "code",
   "execution_count": 5,
   "metadata": {},
   "outputs": [
    {
     "name": "stdout",
     "output_type": "stream",
     "text": [
      "\u001b[32m2023-10-21 12:31:33.483\u001b[0m | \u001b[1mINFO    \u001b[0m | \u001b[36mmodel\u001b[0m:\u001b[36mfit\u001b[0m:\u001b[36m31\u001b[0m - \u001b[1mFitting model for 10 epochs\u001b[0m\n",
      "\u001b[32m2023-10-21 12:31:33.483\u001b[0m | \u001b[1mINFO    \u001b[0m | \u001b[36mmodel\u001b[0m:\u001b[36mfit\u001b[0m:\u001b[36m31\u001b[0m - \u001b[1mFitting model for 10 epochs\u001b[0m\n",
      "\u001b[32m2023-10-21 12:31:33.483\u001b[0m | \u001b[1mINFO    \u001b[0m | \u001b[36mmodel\u001b[0m:\u001b[36mfit\u001b[0m:\u001b[36m31\u001b[0m - \u001b[1mFitting model for 10 epochs\u001b[0m\n",
      "Epoch 1/10\n",
      "184/184 [==============================] - 9s 39ms/step - loss: 12708403.0000 - accuracy: 0.7994\n",
      "Epoch 2/10\n",
      "184/184 [==============================] - 7s 37ms/step - loss: 0.6970 - accuracy: 0.4516\n",
      "Epoch 3/10\n",
      "184/184 [==============================] - 7s 40ms/step - loss: 0.6968 - accuracy: 0.4693\n",
      "Epoch 4/10\n",
      "184/184 [==============================] - 7s 39ms/step - loss: 0.6968 - accuracy: 0.4700\n",
      "Epoch 5/10\n",
      "184/184 [==============================] - 7s 38ms/step - loss: 0.6967 - accuracy: 0.4560\n",
      "Epoch 6/10\n",
      "184/184 [==============================] - 7s 38ms/step - loss: 0.6966 - accuracy: 0.4646\n",
      "Epoch 7/10\n",
      "184/184 [==============================] - 7s 38ms/step - loss: 0.6966 - accuracy: 0.4506\n",
      "Epoch 8/10\n",
      "184/184 [==============================] - 7s 40ms/step - loss: 0.6966 - accuracy: 0.4407\n",
      "Epoch 9/10\n",
      "184/184 [==============================] - 8s 43ms/step - loss: 0.6966 - accuracy: 0.4448\n",
      "Epoch 10/10\n",
      "184/184 [==============================] - 7s 39ms/step - loss: 0.6966 - accuracy: 0.4356\n",
      "\u001b[32m2023-10-21 12:32:47.594\u001b[0m | \u001b[1mINFO    \u001b[0m | \u001b[36mmodel\u001b[0m:\u001b[36mfit\u001b[0m:\u001b[36m33\u001b[0m - \u001b[1mFinished fitting model for 10 epochs\u001b[0m\n",
      "\u001b[32m2023-10-21 12:32:47.594\u001b[0m | \u001b[1mINFO    \u001b[0m | \u001b[36mmodel\u001b[0m:\u001b[36mfit\u001b[0m:\u001b[36m33\u001b[0m - \u001b[1mFinished fitting model for 10 epochs\u001b[0m\n",
      "\u001b[32m2023-10-21 12:32:47.594\u001b[0m | \u001b[1mINFO    \u001b[0m | \u001b[36mmodel\u001b[0m:\u001b[36mfit\u001b[0m:\u001b[36m33\u001b[0m - \u001b[1mFinished fitting model for 10 epochs\u001b[0m\n",
      "\u001b[32m2023-10-21 12:32:47.706\u001b[0m | \u001b[1mINFO    \u001b[0m | \u001b[36mmodel\u001b[0m:\u001b[36mfit\u001b[0m:\u001b[36m35\u001b[0m - \u001b[1mSaved model to ./conv1d-model.keras\u001b[0m\n",
      "\u001b[32m2023-10-21 12:32:47.706\u001b[0m | \u001b[1mINFO    \u001b[0m | \u001b[36mmodel\u001b[0m:\u001b[36mfit\u001b[0m:\u001b[36m35\u001b[0m - \u001b[1mSaved model to ./conv1d-model.keras\u001b[0m\n",
      "\u001b[32m2023-10-21 12:32:47.706\u001b[0m | \u001b[1mINFO    \u001b[0m | \u001b[36mmodel\u001b[0m:\u001b[36mfit\u001b[0m:\u001b[36m35\u001b[0m - \u001b[1mSaved model to ./conv1d-model.keras\u001b[0m\n"
     ]
    }
   ],
   "source": [
    "from model import fit  \n",
    "fit(model, dataset, epochs=10)"
   ]
  }
 ],
 "metadata": {
  "kernelspec": {
   "display_name": "Python 3",
   "language": "python",
   "name": "python3"
  },
  "language_info": {
   "codemirror_mode": {
    "name": "ipython",
    "version": 3
   },
   "file_extension": ".py",
   "mimetype": "text/x-python",
   "name": "python",
   "nbconvert_exporter": "python",
   "pygments_lexer": "ipython3",
   "version": "3.10.11"
  }
 },
 "nbformat": 4,
 "nbformat_minor": 2
}
